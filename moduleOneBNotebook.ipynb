{
 "cells": [
  {
   "cell_type": "markdown",
   "id": "a644c786",
   "metadata": {},
   "source": [
    "\n",
    "## variables"
   ]
  },
  {
   "cell_type": "markdown",
   "id": "52024113",
   "metadata": {},
   "source": [
    "variables store data. they are noun of the programming world\n",
    "python is a weakly types language - variables have types, but you do not delcare the type before the intialiation of the variable"
   ]
  },
  {
   "cell_type": "markdown",
   "id": "5f224b0d",
   "metadata": {},
   "source": [
    "## data types"
   ]
  },
  {
   "cell_type": "markdown",
   "id": "790b21bd",
   "metadata": {},
   "source": [
    "- integer or int - whole number\n",
    "- float - decimanl number\n",
    "- string - text\n",
    "- boolean - true or false (only one or the other)"
   ]
  },
  {
   "cell_type": "code",
   "execution_count": 2,
   "id": "d7d9a70c",
   "metadata": {},
   "outputs": [],
   "source": [
    "x = 6 #integer ex\n",
    "y = 5.6 #float\n",
    "myName = \"Cristian\" #string\n",
    "myBoolean = True #boolean"
   ]
  },
  {
   "cell_type": "markdown",
   "id": "3f7c2621",
   "metadata": {},
   "source": [
    "- Functions = perform actions, take input, process the input, and produce an output\n",
    "- functions are the verb of the programming world, they are actions\n",
    "- built in functions in python perform an action that we will use. You can tell the difference between a function and a variable --> functions are ended with (). ie print() or input()\n"
   ]
  },
  {
   "cell_type": "code",
   "execution_count": 6,
   "id": "bad6952a",
   "metadata": {},
   "outputs": [
    {
     "name": "stdout",
     "output_type": "stream",
     "text": [
      "Your name is cristian\n",
      "9\n",
      "11\n"
     ]
    }
   ],
   "source": [
    "#input function - takes an input and returns it into a variable. the code inside the () is called an argument.\n",
    "#The argument is data that is taken into the variable to be processed or used in some way. In this case the arugment\n",
    "# is used to display a prompt to the user.\n",
    "\n",
    "name = input(\"Enter your name: \")\n",
    "\n",
    "#print function displays things on screen. the argument of this function is used to display whatever is inside the ()\n",
    "#It takes that and converts to a string and displays it. You can join variables with text by using a coma ,\n",
    "\n",
    "print(\"Your name is\", name)\n",
    "\n",
    "#the cool thing about variables is that they can change. You can also take the current value of a variable and manipulate\n",
    "# its current value into something else\n",
    "\n",
    "#increment - increasing value\n",
    "#decrement - decreasing value\n",
    "\n",
    "z = 6\n",
    "z = 9\n",
    "print(z)\n",
    "#will print 9 since that is the most recent\n",
    "z = z + 2\n",
    "print(z)\n",
    "#will print 11. will take the most recent value\n"
   ]
  },
  {
   "cell_type": "markdown",
   "id": "3cf915f2",
   "metadata": {},
   "source": [
    "## Calculations"
   ]
  },
  {
   "cell_type": "markdown",
   "id": "6829f9f9",
   "metadata": {},
   "source": [
    "calculations - in python consist of your typical math calcs ( - + / *)"
   ]
  },
  {
   "cell_type": "code",
   "execution_count": null,
   "id": "09218afc",
   "metadata": {},
   "outputs": [
    {
     "name": "stdout",
     "output_type": "stream",
     "text": [
      "17\n",
      "1.0\n",
      "1\n",
      "256\n",
      "zachHamby\n",
      "250.0\n"
     ]
    }
   ],
   "source": [
    "#addition\n",
    "a = 7\n",
    "b = 10\n",
    "answer = a + b\n",
    "print(answer)\n",
    "\n",
    "#multiplication\n",
    "c = 7\n",
    "d = 4\n",
    "product = c * d\n",
    "\n",
    "#subtraction\n",
    "e = 10\n",
    "f = 5\n",
    "answer2 = e - f\n",
    "\n",
    "#division\n",
    "g = 20\n",
    "h = 5\n",
    "answer3 = g / h\n",
    "\n",
    "#integer division - drops a decimal in a division calc\n",
    "decNum = 20.5\n",
    "decNum2 = 10.4\n",
    "intDiv = decNum // decNum2\n",
    "print(intDiv)\n",
    "\n",
    "#modulus or modulo operator - divide two numbers and the resulting remainder of the answer is the answer - use the % to use it\n",
    "mod1 = 5\n",
    "mod2 = 2\n",
    "modulo = mod1 % mod2\n",
    "print(modulo) #answer is 1 - 5/2 = 2 -->which means that 4 goes into it and there is 1 remaining which is the modulo answer\n",
    "\n",
    "#exponent - **\n",
    "answer = 2 ** 8\n",
    "print(answer)\n",
    "\n",
    "#inputs work differently with calculations\n",
    "#strings cannot be calculated except for combining them (concatenation)\n",
    "name1 = \"zach\"\n",
    "name2 = \"Hamby\"\n",
    "name3 = name1 + name2\n",
    "print(name3)\n",
    "\n",
    "#all inputs come in as strings\n",
    "#that means that they cannot be calculated if we want to use numbers\n",
    "#so we have to convert those strings into antoher tpye - int or float\n",
    "#this is called parsing\n",
    "#there are built in functions in python to help us do this\n",
    "\n",
    "#int() - converts data to an integer\n",
    "#float() - converts data to a float\n",
    "#one of the cool things about python is that you can chain functions. so it is easiest to\n",
    "# chain an input function with a parsing functions like int() or float()\n",
    "num1 = float(input(\"Give me your first number:\"))\n",
    "num2 = float(input(\"Give me your second number: \"))\n",
    "#a float can be an integer but an integer cannot be a float (keep this in mind for inputs. if its chaining a float() then an int\n",
    "#is fine. but if its chaining an int() then a float wont work)\n",
    "answer = num1 * num2\n",
    "print(answer)\n",
    "\n",
    "num3 = int(input(\"Give me your first number:\"))\n",
    "num4 = int(input(\"Give me your second number: \"))\n",
    "answer12 = num3 + num4\n",
    "print(answer12)"
   ]
  },
  {
   "cell_type": "markdown",
   "id": "86ae437b",
   "metadata": {},
   "source": [
    "## String Formatting"
   ]
  },
  {
   "cell_type": "markdown",
   "id": "42d548c7",
   "metadata": {},
   "source": [
    "String formatting - format text in a certain way declared by the programmer. IE. u can change normal text to look like money,\n",
    "I can round or drop certain values after a decimal, I can put values in scientific notarion, etc...\n",
    "\n",
    "https://www.w3schools.com/python/ref_string_format.asp\n",
    "The way oythin dies string formatting is by using f and braces inside of a print function to create placeholders and formatting rules"
   ]
  },
  {
   "cell_type": "code",
   "execution_count": 19,
   "id": "ee33c0c4",
   "metadata": {},
   "outputs": [
    {
     "name": "stdout",
     "output_type": "stream",
     "text": [
      "I bought 4 burritos, and it cost me $ 4.56354\n",
      "I bought 4 burritos, and it cost me $4.56354\n",
      "I bought 4 burritos, and it cost me $4.56\n",
      "The universe is 500000000000 years old\n",
      "The universe is 500,000,000,000 years old\n"
     ]
    }
   ],
   "source": [
    "#tradiontal way\n",
    "num = 4\n",
    "amount = 4.56354\n",
    "print(\"I bought\", num, \"burritos, and it cost me $\", amount)\n",
    "\n",
    "#string formatting\n",
    "print(f'I bought {num} burritos, and it cost me ${amount}')\n",
    "print(f'I bought {num} burritos, and it cost me ${amount:.2f}') #number is formatted\n",
    "\n",
    "#I want to use commas in between large numbers ie 4,000\n",
    "print(f'The universe is {500000000000} years old')\n",
    "print(f'The universe is {500000000000:,} years old')"
   ]
  }
 ],
 "metadata": {
  "kernelspec": {
   "display_name": "Python 3",
   "language": "python",
   "name": "python3"
  },
  "language_info": {
   "codemirror_mode": {
    "name": "ipython",
    "version": 3
   },
   "file_extension": ".py",
   "mimetype": "text/x-python",
   "name": "python",
   "nbconvert_exporter": "python",
   "pygments_lexer": "ipython3",
   "version": "3.13.1"
  }
 },
 "nbformat": 4,
 "nbformat_minor": 5
}
