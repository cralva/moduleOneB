{
 "cells": [
  {
   "cell_type": "code",
   "execution_count": null,
   "id": "1e81d6a5",
   "metadata": {},
   "outputs": [
    {
     "name": "stdout",
     "output_type": "stream",
     "text": [
      "3600\n",
      "86400\n",
      "24.0\n",
      "24\n"
     ]
    }
   ],
   "source": [
    "#3.1 question\n",
    "seconds = 60\n",
    "minutes = 60\n",
    "\n",
    "#3.2 question\n",
    "seconds_per_hour = seconds * minutes\n",
    "print(seconds_per_hour)\n",
    "\n",
    "#3.3 question / 3.4\n",
    "day = 24\n",
    "seconds_per_day = day * seconds_per_hour\n",
    "print(seconds_per_day)\n",
    "\n",
    "#3.5 question\n",
    "threeFiveAnswer = seconds_per_day / seconds_per_hour\n",
    "print(threeFiveAnswer)\n",
    "\n",
    "#3.6 question\n",
    "threeSixAnswer = seconds_per_day // seconds_per_hour\n",
    "print(threeSixAnswer)\n",
    "\n",
    "#3.6 - yes it does agree with the floating point division number"
   ]
  }
 ],
 "metadata": {
  "kernelspec": {
   "display_name": "Python 3",
   "language": "python",
   "name": "python3"
  },
  "language_info": {
   "codemirror_mode": {
    "name": "ipython",
    "version": 3
   },
   "file_extension": ".py",
   "mimetype": "text/x-python",
   "name": "python",
   "nbconvert_exporter": "python",
   "pygments_lexer": "ipython3",
   "version": "3.13.1"
  }
 },
 "nbformat": 4,
 "nbformat_minor": 5
}
